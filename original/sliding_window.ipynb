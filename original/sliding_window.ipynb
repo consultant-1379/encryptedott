{
 "cells": [
  {
   "cell_type": "code",
   "execution_count": 2,
   "metadata": {},
   "outputs": [],
   "source": [
    "import numpy as np\n",
    "from keras.layers import LSTM, Dense, TimeDistributed, BatchNormalization, Conv2D, Conv1D, Flatten, MaxPooling2D, Dropout, Bidirectional\n",
    "from keras.models import Sequential, load_model\n",
    "from keras import layers\n",
    "from keras import callbacks\n",
    "from keras import optimizers\n",
    "from sklearn.metrics import confusion_matrix\n",
    "from sklearn.metrics import accuracy_score, recall_score, precision_score, f1_score\n",
    "from sklearn.ensemble import RandomForestClassifier\n",
    "from sklearn.linear_model import LogisticRegression\n",
    "from sklearn.model_selection import train_test_split\n",
    "from transform_to_windows import transform_to_discrete_window_with_padding, transform_to_sliding_window, transform_labels\n",
    "from load_and_scale import load_and_scale\n",
    "import matplotlib.pyplot as plt\n",
    "\n",
    "%matplotlib inline"
   ]
  },
  {
   "cell_type": "code",
   "execution_count": 4,
   "metadata": {},
   "outputs": [],
   "source": [
    "random_state = 24\n",
    "epochs = 1000\n",
    "window_size = 30\n",
    "start = 30\n",
    "stride = 1\n",
    "batch_size = 16\n",
    "seek_forward = 1\n",
    "lr = 0.0001\n",
    "DATA_DIRECTORY = 'preprocessed'\n",
    "filter_full_zero_rows = True\n",
    "class_weight = {0: 0.5, 1: 2.0}\n",
    "model_name = 'lstm_stride'+str(stride) + '_lr' + str(lr) + \\\n",
    "             '_batch_size' + str(batch_size) + '_' + str(class_weight.values()) + '_weights_start'+str(start) + \\\n",
    "             '_window'+str(window_size)+'_rowfilter_' + str(filter_full_zero_rows) + '.h5'\n",
    "model_path = 'models/' + model_name"
   ]
  },
  {
   "cell_type": "code",
   "execution_count": 5,
   "metadata": {},
   "outputs": [
    {
     "name": "stderr",
     "output_type": "stream",
     "text": [
      "/root/anaconda3/lib/python3.6/site-packages/sklearn/model_selection/_split.py:2026: FutureWarning: From version 0.21, test_size will always complement train_size unless both are specified.\n",
      "  FutureWarning)\n"
     ]
    }
   ],
   "source": [
    "train_data, train_labels, test_data, test_labels = load_and_scale(DATA_DIRECTORY, 'periods.csv', 'gt.csv',\n",
    "                                                                  split_percentage=0.8, should_filter=filter_full_zero_rows, random_state=random_state)"
   ]
  },
  {
   "cell_type": "code",
   "execution_count": 6,
   "metadata": {},
   "outputs": [
    {
     "name": "stderr",
     "output_type": "stream",
     "text": [
      "/root/anaconda3/lib/python3.6/site-packages/sklearn/model_selection/_split.py:2026: FutureWarning: From version 0.21, test_size will always complement train_size unless both are specified.\n",
      "  FutureWarning)\n"
     ]
    }
   ],
   "source": [
    "train_data, validation_data, train_labels, validation_labels = train_test_split(train_data, train_labels, train_size=0.8, random_state=random_state)"
   ]
  },
  {
   "cell_type": "code",
   "execution_count": 7,
   "metadata": {},
   "outputs": [],
   "source": [
    "sliding_window_train = [transform_to_sliding_window(session, stride=stride, window_size=window_size, start=start) for session in train_data]\n",
    "\n",
    "sliding_window_val = [transform_to_sliding_window(session, stride=stride, window_size=window_size, start=start) for session in validation_data]\n",
    "\n",
    "sliding_window_test = [transform_to_sliding_window(session, stride=stride, window_size=window_size, start=start) for session in test_data]\n"
   ]
  },
  {
   "cell_type": "code",
   "execution_count": 8,
   "metadata": {},
   "outputs": [],
   "source": [
    "sliding_window_train_labels = [transform_labels(labels, stride=stride, start=start, seek_forward=seek_forward) for labels in train_labels]\n",
    "\n",
    "sliding_window_val_labels = [transform_labels(labels, stride=stride, start=start, seek_forward=seek_forward) for labels in validation_labels]\n",
    "\n",
    "sliding_window_test_labels = [transform_labels(labels, stride=stride, start=start, seek_forward=seek_forward) for labels in test_labels]\n",
    "\n"
   ]
  },
  {
   "cell_type": "code",
   "execution_count": 9,
   "metadata": {},
   "outputs": [],
   "source": [
    "# Should be extracted\n",
    "def flatten_3d_arrays_to_2d(arrays):\n",
    "    return [session.reshape(session.shape[0], session.shape[1] * session.shape[2]) for session in arrays]"
   ]
  },
  {
   "cell_type": "code",
   "execution_count": 10,
   "metadata": {},
   "outputs": [],
   "source": [
    "concat_non_flat_train = np.concatenate(sliding_window_train)\n",
    "\n",
    "concat_non_flat_val = np.concatenate(sliding_window_val)\n",
    "\n",
    "\n",
    "concat_sliding_window_train_labels = np.concatenate(sliding_window_train_labels)\n",
    "concat_sliding_window_val_labels = np.concatenate(sliding_window_val_labels)\n",
    "concat_sliding_window_test_labels = np.concatenate(sliding_window_test_labels)"
   ]
  },
  {
   "cell_type": "markdown",
   "metadata": {},
   "source": [
    "#### Drop the first ones"
   ]
  },
  {
   "cell_type": "code",
   "execution_count": 11,
   "metadata": {},
   "outputs": [],
   "source": [
    "train_labels = [label[start:] for label in train_labels]\n",
    "test_labels = [label[start:] for label in test_labels]"
   ]
  },
  {
   "cell_type": "markdown",
   "metadata": {},
   "source": [
    "#### Flattened (2D) data for traditional models"
   ]
  },
  {
   "cell_type": "code",
   "execution_count": 12,
   "metadata": {},
   "outputs": [],
   "source": [
    "flattened_train = flatten_3d_arrays_to_2d(sliding_window_train)\n",
    "concatenated_train = np.concatenate(flattened_train)\n",
    "concatenated_train_labels = np.concatenate(train_labels)\n",
    "flattened_test = flatten_3d_arrays_to_2d(sliding_window_test)\n",
    "concatenated_test = np.concatenate(flattened_test)\n",
    "concatenated_test_labels = np.concatenate(test_labels)"
   ]
  },
  {
   "cell_type": "markdown",
   "metadata": {},
   "source": [
    "### Logistic regression training"
   ]
  },
  {
   "cell_type": "code",
   "execution_count": 14,
   "metadata": {},
   "outputs": [
    {
     "name": "stdout",
     "output_type": "stream",
     "text": [
      "[[1562   14]\n",
      " [ 174   35]]\n",
      "0.8946778711484594\n",
      "0.1674641148325359\n",
      "0.7142857142857143\n",
      "0.2713178294573644\n"
     ]
    }
   ],
   "source": [
    "log_reg = LogisticRegression()\n",
    "log_reg.fit(concatenated_train, concat_sliding_window_train_labels)\n",
    "log_reg_predictions = log_reg.predict(concatenated_test)\n",
    "\n",
    "print(confusion_matrix(concat_sliding_window_test_labels, log_reg_predictions))\n",
    "print(accuracy_score(concat_sliding_window_test_labels, log_reg_predictions))\n",
    "print(recall_score(concat_sliding_window_test_labels, log_reg_predictions))\n",
    "print(precision_score(concat_sliding_window_test_labels, log_reg_predictions))\n",
    "print(f1_score(concat_sliding_window_test_labels, log_reg_predictions))"
   ]
  },
  {
   "cell_type": "markdown",
   "metadata": {},
   "source": [
    "### Random Forest training"
   ]
  },
  {
   "cell_type": "code",
   "execution_count": 15,
   "metadata": {},
   "outputs": [
    {
     "name": "stdout",
     "output_type": "stream",
     "text": [
      "[[1560   16]\n",
      " [ 110   99]]\n",
      "0.9294117647058824\n",
      "0.47368421052631576\n",
      "0.8608695652173913\n",
      "0.611111111111111\n"
     ]
    }
   ],
   "source": [
    "rf = RandomForestClassifier()\n",
    "\n",
    "rf.fit(concatenated_train, concat_sliding_window_train_labels)\n",
    "rf_predictions = rf.predict(concatenated_test)\n",
    "print(confusion_matrix(concat_sliding_window_test_labels, rf_predictions))\n",
    "print(accuracy_score(concat_sliding_window_test_labels, rf_predictions))\n",
    "print(recall_score(concat_sliding_window_test_labels, rf_predictions))\n",
    "print(precision_score(concat_sliding_window_test_labels, rf_predictions))\n",
    "print(f1_score(concat_sliding_window_test_labels, rf_predictions))"
   ]
  },
  {
   "cell_type": "markdown",
   "metadata": {},
   "source": [
    "### LSTM Training"
   ]
  },
  {
   "cell_type": "code",
   "execution_count": 16,
   "metadata": {},
   "outputs": [
    {
     "name": "stdout",
     "output_type": "stream",
     "text": [
      "_________________________________________________________________\n",
      "Layer (type)                 Output Shape              Param #   \n",
      "=================================================================\n",
      "lstm_1 (LSTM)                (None, 64)                20992     \n",
      "_________________________________________________________________\n",
      "dense_1 (Dense)              (None, 1)                 65        \n",
      "=================================================================\n",
      "Total params: 21,057\n",
      "Trainable params: 21,057\n",
      "Non-trainable params: 0\n",
      "_________________________________________________________________\n",
      "None\n"
     ]
    }
   ],
   "source": [
    "model = Sequential()\n",
    "model.add(layers.LSTM(64, input_shape=(sliding_window_train[0].shape[1], sliding_window_train[0].shape[2]), dropout=0.2, recurrent_dropout=0.2))\n",
    "model.add(Dense(1, activation='sigmoid'))\n",
    "model.compile(loss='binary_crossentropy', optimizer=optimizers.RMSprop(lr=lr), metrics=['accuracy'])\n",
    "print(model.summary())"
   ]
  },
  {
   "cell_type": "code",
   "execution_count": 17,
   "metadata": {},
   "outputs": [
    {
     "name": "stdout",
     "output_type": "stream",
     "text": [
      "Train on 5570 samples, validate on 1612 samples\n",
      "Epoch 1/1000\n",
      " - 8s - loss: 0.4966 - acc: 0.8436 - val_loss: 0.6419 - val_acc: 0.8220\n",
      "Epoch 2/1000\n",
      " - 8s - loss: 0.4915 - acc: 0.8546 - val_loss: 0.5893 - val_acc: 0.8220\n",
      "Epoch 3/1000\n",
      " - 7s - loss: 0.4837 - acc: 0.8348 - val_loss: 0.5261 - val_acc: 0.8220\n",
      "Epoch 4/1000\n",
      " - 7s - loss: 0.4658 - acc: 0.7977 - val_loss: 0.5046 - val_acc: 0.8158\n",
      "Epoch 5/1000\n",
      " - 7s - loss: 0.4552 - acc: 0.7928 - val_loss: 0.4924 - val_acc: 0.7959\n",
      "Epoch 6/1000\n",
      " - 7s - loss: 0.4476 - acc: 0.7840 - val_loss: 0.4853 - val_acc: 0.8002\n",
      "Epoch 7/1000\n",
      " - 7s - loss: 0.4441 - acc: 0.7820 - val_loss: 0.4777 - val_acc: 0.8046\n",
      "Epoch 8/1000\n",
      " - 7s - loss: 0.4393 - acc: 0.7858 - val_loss: 0.4786 - val_acc: 0.8127\n",
      "Epoch 9/1000\n",
      " - 7s - loss: 0.4278 - acc: 0.7781 - val_loss: 0.4831 - val_acc: 0.8244\n",
      "Epoch 10/1000\n",
      " - 6s - loss: 0.4300 - acc: 0.7776 - val_loss: 0.4698 - val_acc: 0.8189\n",
      "Epoch 11/1000\n",
      " - 7s - loss: 0.4234 - acc: 0.7758 - val_loss: 0.4586 - val_acc: 0.8232\n",
      "Epoch 12/1000\n",
      " - 7s - loss: 0.4267 - acc: 0.7758 - val_loss: 0.4716 - val_acc: 0.8275\n",
      "Epoch 13/1000\n",
      " - 7s - loss: 0.4211 - acc: 0.7759 - val_loss: 0.4764 - val_acc: 0.8350\n",
      "Epoch 14/1000\n",
      " - 7s - loss: 0.4196 - acc: 0.7738 - val_loss: 0.4646 - val_acc: 0.8337\n",
      "Epoch 15/1000\n",
      " - 7s - loss: 0.4190 - acc: 0.7724 - val_loss: 0.4853 - val_acc: 0.8387\n",
      "Epoch 16/1000\n",
      " - 7s - loss: 0.4191 - acc: 0.7763 - val_loss: 0.4666 - val_acc: 0.8356\n",
      "Epoch 17/1000\n",
      " - 7s - loss: 0.4209 - acc: 0.7741 - val_loss: 0.4691 - val_acc: 0.8424\n",
      "Epoch 18/1000\n",
      " - 7s - loss: 0.4193 - acc: 0.7668 - val_loss: 0.4611 - val_acc: 0.8431\n",
      "Epoch 19/1000\n",
      " - 6s - loss: 0.4163 - acc: 0.7738 - val_loss: 0.4624 - val_acc: 0.8455\n",
      "Epoch 20/1000\n",
      " - 6s - loss: 0.4112 - acc: 0.7698 - val_loss: 0.4593 - val_acc: 0.8431\n",
      "Epoch 21/1000\n",
      " - 6s - loss: 0.4064 - acc: 0.7671 - val_loss: 0.4698 - val_acc: 0.8462\n",
      "Epoch 22/1000\n",
      " - 6s - loss: 0.4148 - acc: 0.7686 - val_loss: 0.4688 - val_acc: 0.8468\n",
      "Epoch 23/1000\n",
      " - 6s - loss: 0.4111 - acc: 0.7700 - val_loss: 0.4518 - val_acc: 0.8449\n",
      "Epoch 24/1000\n",
      " - 6s - loss: 0.4108 - acc: 0.7666 - val_loss: 0.4548 - val_acc: 0.8474\n",
      "Epoch 25/1000\n",
      " - 7s - loss: 0.4178 - acc: 0.7682 - val_loss: 0.4597 - val_acc: 0.8474\n",
      "Epoch 26/1000\n",
      " - 7s - loss: 0.4127 - acc: 0.7668 - val_loss: 0.4590 - val_acc: 0.8499\n",
      "Epoch 27/1000\n",
      " - 7s - loss: 0.4086 - acc: 0.7657 - val_loss: 0.4460 - val_acc: 0.8480\n",
      "Epoch 28/1000\n",
      " - 7s - loss: 0.4076 - acc: 0.7652 - val_loss: 0.4174 - val_acc: 0.8455\n",
      "Epoch 29/1000\n",
      " - 6s - loss: 0.4187 - acc: 0.7673 - val_loss: 0.4212 - val_acc: 0.8480\n",
      "Epoch 30/1000\n",
      " - 7s - loss: 0.4162 - acc: 0.7686 - val_loss: 0.4151 - val_acc: 0.8480\n",
      "Epoch 31/1000\n",
      " - 7s - loss: 0.4032 - acc: 0.7634 - val_loss: 0.4283 - val_acc: 0.8505\n",
      "Epoch 32/1000\n",
      " - 6s - loss: 0.4101 - acc: 0.7641 - val_loss: 0.4231 - val_acc: 0.8511\n",
      "Epoch 33/1000\n",
      " - 6s - loss: 0.4071 - acc: 0.7725 - val_loss: 0.3965 - val_acc: 0.8474\n",
      "Epoch 34/1000\n",
      " - 7s - loss: 0.4021 - acc: 0.7630 - val_loss: 0.3957 - val_acc: 0.8505\n",
      "Epoch 35/1000\n",
      " - 7s - loss: 0.4069 - acc: 0.7680 - val_loss: 0.4043 - val_acc: 0.8511\n",
      "Epoch 36/1000\n",
      " - 7s - loss: 0.4064 - acc: 0.7643 - val_loss: 0.3910 - val_acc: 0.8511\n",
      "Epoch 37/1000\n",
      " - 7s - loss: 0.4022 - acc: 0.7569 - val_loss: 0.3996 - val_acc: 0.8530\n",
      "Epoch 38/1000\n",
      " - 7s - loss: 0.4037 - acc: 0.7648 - val_loss: 0.3826 - val_acc: 0.8505\n",
      "Epoch 39/1000\n",
      " - 7s - loss: 0.4090 - acc: 0.7598 - val_loss: 0.3988 - val_acc: 0.8561\n",
      "Epoch 40/1000\n",
      " - 7s - loss: 0.3957 - acc: 0.7654 - val_loss: 0.3909 - val_acc: 0.8542\n",
      "Epoch 41/1000\n",
      " - 7s - loss: 0.4125 - acc: 0.7657 - val_loss: 0.3923 - val_acc: 0.8536\n",
      "Epoch 42/1000\n",
      " - 7s - loss: 0.4114 - acc: 0.7668 - val_loss: 0.3913 - val_acc: 0.8542\n",
      "Epoch 43/1000\n",
      " - 7s - loss: 0.4045 - acc: 0.7675 - val_loss: 0.3897 - val_acc: 0.8548\n",
      "Epoch 44/1000\n",
      " - 7s - loss: 0.3977 - acc: 0.7698 - val_loss: 0.3850 - val_acc: 0.8555\n",
      "Epoch 45/1000\n",
      " - 7s - loss: 0.4045 - acc: 0.7743 - val_loss: 0.3854 - val_acc: 0.8561\n",
      "Epoch 46/1000\n",
      " - 7s - loss: 0.4092 - acc: 0.7693 - val_loss: 0.3726 - val_acc: 0.8536\n",
      "Epoch 47/1000\n",
      " - 6s - loss: 0.4071 - acc: 0.7621 - val_loss: 0.3835 - val_acc: 0.8555\n",
      "Epoch 48/1000\n",
      " - 6s - loss: 0.4048 - acc: 0.7648 - val_loss: 0.3752 - val_acc: 0.8561\n",
      "Epoch 49/1000\n",
      " - 7s - loss: 0.3987 - acc: 0.7628 - val_loss: 0.3826 - val_acc: 0.8561\n",
      "Epoch 50/1000\n",
      " - 7s - loss: 0.4006 - acc: 0.7621 - val_loss: 0.3937 - val_acc: 0.8555\n",
      "Epoch 51/1000\n",
      " - 7s - loss: 0.4050 - acc: 0.7614 - val_loss: 0.3868 - val_acc: 0.8548\n",
      "Epoch 52/1000\n",
      " - 7s - loss: 0.4037 - acc: 0.7603 - val_loss: 0.3712 - val_acc: 0.8555\n",
      "Epoch 53/1000\n",
      " - 7s - loss: 0.4110 - acc: 0.7601 - val_loss: 0.3917 - val_acc: 0.8561\n",
      "Epoch 54/1000\n",
      " - 7s - loss: 0.4030 - acc: 0.7610 - val_loss: 0.3843 - val_acc: 0.8567\n",
      "Epoch 55/1000\n",
      " - 6s - loss: 0.4064 - acc: 0.7621 - val_loss: 0.3923 - val_acc: 0.8542\n",
      "Epoch 56/1000\n",
      " - 7s - loss: 0.4075 - acc: 0.7689 - val_loss: 0.3823 - val_acc: 0.8555\n",
      "Epoch 57/1000\n",
      " - 6s - loss: 0.4085 - acc: 0.7627 - val_loss: 0.3918 - val_acc: 0.8555\n",
      "Epoch 58/1000\n",
      " - 6s - loss: 0.4031 - acc: 0.7623 - val_loss: 0.3930 - val_acc: 0.8536\n",
      "Epoch 59/1000\n",
      " - 7s - loss: 0.4009 - acc: 0.7700 - val_loss: 0.3863 - val_acc: 0.8536\n",
      "Epoch 60/1000\n",
      " - 6s - loss: 0.3970 - acc: 0.7562 - val_loss: 0.3959 - val_acc: 0.8517\n",
      "Epoch 61/1000\n",
      " - 6s - loss: 0.4044 - acc: 0.7619 - val_loss: 0.4033 - val_acc: 0.8524\n",
      "Epoch 62/1000\n",
      " - 7s - loss: 0.4007 - acc: 0.7673 - val_loss: 0.3866 - val_acc: 0.8536\n",
      "Epoch 63/1000\n",
      " - 7s - loss: 0.3954 - acc: 0.7654 - val_loss: 0.3764 - val_acc: 0.8555\n",
      "Epoch 64/1000\n",
      " - 7s - loss: 0.3983 - acc: 0.7535 - val_loss: 0.3903 - val_acc: 0.8511\n",
      "Epoch 65/1000\n",
      " - 7s - loss: 0.4070 - acc: 0.7601 - val_loss: 0.3830 - val_acc: 0.8499\n",
      "Epoch 66/1000\n",
      " - 7s - loss: 0.4068 - acc: 0.7610 - val_loss: 0.3787 - val_acc: 0.8548\n",
      "Epoch 67/1000\n",
      " - 7s - loss: 0.4037 - acc: 0.7625 - val_loss: 0.3976 - val_acc: 0.8462\n",
      "Epoch 68/1000\n",
      " - 7s - loss: 0.4030 - acc: 0.7587 - val_loss: 0.3809 - val_acc: 0.8486\n",
      "Epoch 69/1000\n",
      " - 6s - loss: 0.4009 - acc: 0.7661 - val_loss: 0.3826 - val_acc: 0.8517\n",
      "Epoch 70/1000\n",
      " - 6s - loss: 0.3964 - acc: 0.7585 - val_loss: 0.3909 - val_acc: 0.8480\n",
      "Epoch 71/1000\n",
      " - 7s - loss: 0.4008 - acc: 0.7682 - val_loss: 0.3771 - val_acc: 0.8511\n",
      "Epoch 72/1000\n",
      " - 6s - loss: 0.4060 - acc: 0.7567 - val_loss: 0.3851 - val_acc: 0.8493\n"
     ]
    }
   ],
   "source": [
    "history = model.fit(concat_non_flat_train, concat_sliding_window_train_labels,\n",
    "                        validation_data=(concat_non_flat_val, concat_sliding_window_val_labels),\n",
    "                        epochs=epochs,\n",
    "                        batch_size=batch_size, shuffle=False, verbose=2,\n",
    "                        callbacks=[callbacks.EarlyStopping(monitor='val_loss', patience=20),\n",
    "                                   callbacks.ModelCheckpoint(model_path, monitor='val_loss', save_best_only=True, period=1)],\n",
    "                        class_weight=class_weight)"
   ]
  },
  {
   "cell_type": "markdown",
   "metadata": {},
   "source": [
    "### Shouldn't look like this, but there isn't enough data"
   ]
  },
  {
   "cell_type": "code",
   "execution_count": 19,
   "metadata": {},
   "outputs": [
    {
     "data": {
      "image/png": "[encoded data removed]",
      "text/plain": [
       "<matplotlib.figure.Figure at 0x7ff79bfa4a58>"
      ]
     },
     "metadata": {},
     "output_type": "display_data"
    }
   ],
   "source": [
    "plt.plot(history.history['acc'])\n",
    "plt.plot(history.history['val_acc'])\n",
    "plt.title('model accuracy')\n",
    "plt.ylabel('accuracy')\n",
    "plt.xlabel('epoch')\n",
    "plt.legend(['train', 'validation'], loc='upper left')\n",
    "plt.show()"
   ]
  },
  {
   "cell_type": "markdown",
   "metadata": {},
   "source": [
    "### Also seems like a case of overfitting"
   ]
  },
  {
   "cell_type": "code",
   "execution_count": 20,
   "metadata": {},
   "outputs": [
    {
     "data": {
      "image/png": "[encoded data removed]",
      "text/plain": [
       "<matplotlib.figure.Figure at 0x7ff79bf590f0>"
      ]
     },
     "metadata": {},
     "output_type": "display_data"
    }
   ],
   "source": [
    "plt.plot(history.history['loss'])\n",
    "plt.plot(history.history['val_loss'])\n",
    "plt.title('model loss')\n",
    "plt.ylabel('loss')\n",
    "plt.xlabel('epoch')\n",
    "plt.legend(['train', 'validation'], loc='upper left')\n",
    "plt.show()"
   ]
  },
  {
   "cell_type": "code",
   "execution_count": 21,
   "metadata": {},
   "outputs": [],
   "source": [
    "sliding_window_concat_test = np.concatenate(sliding_window_test)"
   ]
  },
  {
   "cell_type": "code",
   "execution_count": 22,
   "metadata": {},
   "outputs": [],
   "source": [
    "predictions = model.predict_classes(sliding_window_concat_test, batch_size=1)"
   ]
  },
  {
   "cell_type": "code",
   "execution_count": 23,
   "metadata": {},
   "outputs": [
    {
     "name": "stdout",
     "output_type": "stream",
     "text": [
      "[[1532   44]\n",
      " [  61  148]]\n",
      "0.9411764705882353\n",
      "0.7081339712918661\n",
      "0.7708333333333334\n",
      "0.7381546134663343\n"
     ]
    }
   ],
   "source": [
    "print(confusion_matrix(concat_sliding_window_test_labels, predictions))\n",
    "print(accuracy_score(concat_sliding_window_test_labels, predictions))\n",
    "print(recall_score(concat_sliding_window_test_labels, predictions))\n",
    "print(precision_score(concat_sliding_window_test_labels, predictions))\n",
    "print(f1_score(concat_sliding_window_test_labels, predictions))"
   ]
  },
  {
   "cell_type": "code",
   "execution_count": null,
   "metadata": {},
   "outputs": [],
   "source": []
  }
 ],
 "metadata": {
  "kernelspec": {
   "display_name": "Python 3",
   "language": "python",
   "name": "python3"
  },
  "language_info": {
   "codemirror_mode": {
    "name": "ipython",
    "version": 3
   },
   "file_extension": ".py",
   "mimetype": "text/x-python",
   "name": "python",
   "nbconvert_exporter": "python",
   "pygments_lexer": "ipython3",
   "version": "3.6.4"
  }
 },
 "nbformat": 4,
 "nbformat_minor": 2
}
